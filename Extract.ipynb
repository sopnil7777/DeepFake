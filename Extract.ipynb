{
 "cells": [
  {
   "cell_type": "code",
   "execution_count": null,
   "id": "aaf3e8be-9af8-4f68-823b-a6c83003010c",
   "metadata": {},
   "outputs": [
    {
     "name": "stdout",
     "output_type": "stream",
     "text": [
      "Found 52834 images.\n"
     ]
    }
   ],
   "source": [
    "import os\n",
    "import pandas as pd\n",
    "from mtcnn import MTCNN\n",
    "import numpy as np\n",
    "import cv2\n",
    "\n",
    "# Function to process a single image\n",
    "def process_image(image_path):\n",
    "    try:\n",
    "        detector = MTCNN()  # Initialize MTCNN here\n",
    "        # Extract the image filename\n",
    "        image_file = os.path.basename(image_path)\n",
    "        # Extract video name (assumes the video name is in the parent directory of the image)\n",
    "        video_name = os.path.basename(os.path.dirname(image_path)) + \".mp4\"\n",
    "\n",
    "        image = cv2.imread(image_path)\n",
    "        if image is None:\n",
    "            print(f\"Could not read image: {image_path}\")\n",
    "            return None\n",
    "\n",
    "        # Resize image for faster detection\n",
    "        if image.shape[1] > 640:  # Resize if width is greater than 640\n",
    "            image = cv2.resize(image, (640, int(640 * image.shape[0] / image.shape[1])))\n",
    "        \n",
    "        results = detector.detect_faces(image)\n",
    "        boxes_mtcnn = []\n",
    "        faces_mtcnn = len(results)\n",
    "        faces_mtcnn_avg = 0\n",
    "        faces_mtcnn_median = 0\n",
    "\n",
    "        for result in results:\n",
    "            box = result['box']\n",
    "            confidence = result['confidence']\n",
    "            if len(box) == 4:\n",
    "                boxes_mtcnn.append((box, confidence))\n",
    "\n",
    "        if faces_mtcnn > 0:\n",
    "            areas = [box[2] * box[3] for box, _ in boxes_mtcnn]\n",
    "            faces_mtcnn_avg = np.mean(areas)\n",
    "            faces_mtcnn_median = np.median(areas)\n",
    "\n",
    "        return {\n",
    "            'filename': video_name,  # Video filename (e.g., videoname.mp4)\n",
    "            'image': image_path,  # Full image path as in the original\n",
    "            'boxes_mtcnn': boxes_mtcnn,\n",
    "            'faces_mtcnn': faces_mtcnn,\n",
    "            'faces_mtcnn_avg': faces_mtcnn_avg,\n",
    "            'faces_mtcnn_median': faces_mtcnn_median\n",
    "        }\n",
    "    except Exception as e:\n",
    "        print(f\"Error processing {image_path}: {e}\")\n",
    "        return None\n",
    "\n",
    "# Function to get all image paths from the input folder\n",
    "def get_image_paths(input_folder):\n",
    "    image_paths = []\n",
    "    for root, dirs, files in os.walk(input_folder):\n",
    "        for file in files:\n",
    "            if file.endswith('.jpg'):\n",
    "                image_paths.append(os.path.join(root, file))\n",
    "    return image_paths\n",
    "\n",
    "# Main function\n",
    "def main(input_folder, output_csv_path):\n",
    "    # Get all valid image paths\n",
    "    image_paths = get_image_paths(input_folder)\n",
    "    print(f\"Found {len(image_paths)} images.\")\n",
    "    \n",
    "    results = []\n",
    "    for image_path in image_paths:\n",
    "        result = process_image(image_path)\n",
    "        if result is not None:\n",
    "            results.append(result)\n",
    "    \n",
    "    # Convert the results to a pandas DataFrame\n",
    "    df = pd.DataFrame(results)\n",
    "\n",
    "    # Save the data to CSV\n",
    "    if not df.empty:\n",
    "        df.to_csv(output_csv_path, index=False)\n",
    "        print(f\"CSV file saved at {output_csv_path}\")\n",
    "    else:\n",
    "        print(\"No valid results to save.\")\n",
    "\n",
    "# Main block\n",
    "if __name__ == \"__main__\":\n",
    "    input_folder = 'dfdc/image'  # Folder containing all images\n",
    "    output_csv_path = 'faces_mtcnn_data.csv'  # Output CSV path\n",
    "\n",
    "    # Run the main function\n",
    "    main(input_folder, output_csv_path)\n"
   ]
  },
  {
   "cell_type": "code",
   "execution_count": 2,
   "id": "a0a303cb-61bb-48df-8919-de528b85b31b",
   "metadata": {},
   "outputs": [],
   "source": [
    "import pandas as pd\n",
    "df = pd.read_csv(\"faces_mtcnn_data.csv\")"
   ]
  },
  {
   "cell_type": "code",
   "execution_count": 3,
   "id": "1ffef13e-c650-4428-9074-b4f8e8b877c6",
   "metadata": {},
   "outputs": [
    {
     "data": {
      "text/html": [
       "<div>\n",
       "<style scoped>\n",
       "    .dataframe tbody tr th:only-of-type {\n",
       "        vertical-align: middle;\n",
       "    }\n",
       "\n",
       "    .dataframe tbody tr th {\n",
       "        vertical-align: top;\n",
       "    }\n",
       "\n",
       "    .dataframe thead th {\n",
       "        text-align: right;\n",
       "    }\n",
       "</style>\n",
       "<table border=\"1\" class=\"dataframe\">\n",
       "  <thead>\n",
       "    <tr style=\"text-align: right;\">\n",
       "      <th></th>\n",
       "      <th>filename</th>\n",
       "      <th>image</th>\n",
       "      <th>boxes_mtcnn</th>\n",
       "      <th>faces_mtcnn</th>\n",
       "      <th>faces_mtcnn_avg</th>\n",
       "      <th>faces_mtcnn_median</th>\n",
       "    </tr>\n",
       "  </thead>\n",
       "  <tbody>\n",
       "    <tr>\n",
       "      <th>0</th>\n",
       "      <td>aatgqvvrta.mp4</td>\n",
       "      <td>dfdc/image\\aatgqvvrta\\frame_00000.jpg</td>\n",
       "      <td>[([351, 73, 22, 28], 0.9943623542785645)]</td>\n",
       "      <td>1</td>\n",
       "      <td>616.0</td>\n",
       "      <td>616.0</td>\n",
       "    </tr>\n",
       "    <tr>\n",
       "      <th>1</th>\n",
       "      <td>aatgqvvrta.mp4</td>\n",
       "      <td>dfdc/image\\aatgqvvrta\\frame_00001.jpg</td>\n",
       "      <td>[([352, 72, 22, 28], 0.9981972575187683)]</td>\n",
       "      <td>1</td>\n",
       "      <td>616.0</td>\n",
       "      <td>616.0</td>\n",
       "    </tr>\n",
       "    <tr>\n",
       "      <th>2</th>\n",
       "      <td>aatgqvvrta.mp4</td>\n",
       "      <td>dfdc/image\\aatgqvvrta\\frame_00002.jpg</td>\n",
       "      <td>[([349, 72, 22, 28], 0.9976887702941895)]</td>\n",
       "      <td>1</td>\n",
       "      <td>616.0</td>\n",
       "      <td>616.0</td>\n",
       "    </tr>\n",
       "    <tr>\n",
       "      <th>3</th>\n",
       "      <td>aatgqvvrta.mp4</td>\n",
       "      <td>dfdc/image\\aatgqvvrta\\frame_00003.jpg</td>\n",
       "      <td>[([348, 72, 23, 27], 0.998422384262085)]</td>\n",
       "      <td>1</td>\n",
       "      <td>621.0</td>\n",
       "      <td>621.0</td>\n",
       "    </tr>\n",
       "    <tr>\n",
       "      <th>4</th>\n",
       "      <td>aatgqvvrta.mp4</td>\n",
       "      <td>dfdc/image\\aatgqvvrta\\frame_00004.jpg</td>\n",
       "      <td>[([350, 72, 22, 26], 0.9976015686988831)]</td>\n",
       "      <td>1</td>\n",
       "      <td>572.0</td>\n",
       "      <td>572.0</td>\n",
       "    </tr>\n",
       "  </tbody>\n",
       "</table>\n",
       "</div>"
      ],
      "text/plain": [
       "         filename                                  image  \\\n",
       "0  aatgqvvrta.mp4  dfdc/image\\aatgqvvrta\\frame_00000.jpg   \n",
       "1  aatgqvvrta.mp4  dfdc/image\\aatgqvvrta\\frame_00001.jpg   \n",
       "2  aatgqvvrta.mp4  dfdc/image\\aatgqvvrta\\frame_00002.jpg   \n",
       "3  aatgqvvrta.mp4  dfdc/image\\aatgqvvrta\\frame_00003.jpg   \n",
       "4  aatgqvvrta.mp4  dfdc/image\\aatgqvvrta\\frame_00004.jpg   \n",
       "\n",
       "                                 boxes_mtcnn  faces_mtcnn  faces_mtcnn_avg  \\\n",
       "0  [([351, 73, 22, 28], 0.9943623542785645)]            1            616.0   \n",
       "1  [([352, 72, 22, 28], 0.9981972575187683)]            1            616.0   \n",
       "2  [([349, 72, 22, 28], 0.9976887702941895)]            1            616.0   \n",
       "3   [([348, 72, 23, 27], 0.998422384262085)]            1            621.0   \n",
       "4  [([350, 72, 22, 26], 0.9976015686988831)]            1            572.0   \n",
       "\n",
       "   faces_mtcnn_median  \n",
       "0               616.0  \n",
       "1               616.0  \n",
       "2               616.0  \n",
       "3               621.0  \n",
       "4               572.0  "
      ]
     },
     "execution_count": 3,
     "metadata": {},
     "output_type": "execute_result"
    }
   ],
   "source": [
    "df.head()"
   ]
  },
  {
   "cell_type": "code",
   "execution_count": 6,
   "id": "7f013074-a2de-4a67-9f41-ea7c56a87bc2",
   "metadata": {},
   "outputs": [
    {
     "data": {
      "text/plain": [
       "<bound method DataFrame.nunique of              filename                                  image  \\\n",
       "0      aatgqvvrta.mp4  dfdc/image\\aatgqvvrta\\frame_00000.jpg   \n",
       "1      aatgqvvrta.mp4  dfdc/image\\aatgqvvrta\\frame_00001.jpg   \n",
       "2      aatgqvvrta.mp4  dfdc/image\\aatgqvvrta\\frame_00002.jpg   \n",
       "3      aatgqvvrta.mp4  dfdc/image\\aatgqvvrta\\frame_00003.jpg   \n",
       "4      aatgqvvrta.mp4  dfdc/image\\aatgqvvrta\\frame_00004.jpg   \n",
       "...               ...                                    ...   \n",
       "52829  rhcifqslqe.mp4  dfdc/image\\rhcifqslqe\\frame_00025.jpg   \n",
       "52830  rhcifqslqe.mp4  dfdc/image\\rhcifqslqe\\frame_00026.jpg   \n",
       "52831  rhcifqslqe.mp4  dfdc/image\\rhcifqslqe\\frame_00027.jpg   \n",
       "52832  rhcifqslqe.mp4  dfdc/image\\rhcifqslqe\\frame_00028.jpg   \n",
       "52833  rhcifqslqe.mp4  dfdc/image\\rhcifqslqe\\frame_00029.jpg   \n",
       "\n",
       "                                     boxes_mtcnn  faces_mtcnn  \\\n",
       "0      [([351, 73, 22, 28], 0.9943623542785645)]            1   \n",
       "1      [([352, 72, 22, 28], 0.9981972575187683)]            1   \n",
       "2      [([349, 72, 22, 28], 0.9976887702941895)]            1   \n",
       "3       [([348, 72, 23, 27], 0.998422384262085)]            1   \n",
       "4      [([350, 72, 22, 26], 0.9976015686988831)]            1   \n",
       "...                                          ...          ...   \n",
       "52829  [([261, 45, 74, 92], 0.9649952054023743)]            1   \n",
       "52830  [([266, 45, 74, 93], 0.9706587791442871)]            1   \n",
       "52831  [([268, 39, 75, 93], 0.9691406488418579)]            1   \n",
       "52832   [([274, 38, 77, 96], 0.848465085029602)]            1   \n",
       "52833                                         []            0   \n",
       "\n",
       "       faces_mtcnn_avg  faces_mtcnn_median  \n",
       "0                616.0               616.0  \n",
       "1                616.0               616.0  \n",
       "2                616.0               616.0  \n",
       "3                621.0               621.0  \n",
       "4                572.0               572.0  \n",
       "...                ...                 ...  \n",
       "52829           6808.0              6808.0  \n",
       "52830           6882.0              6882.0  \n",
       "52831           6975.0              6975.0  \n",
       "52832           7392.0              7392.0  \n",
       "52833              0.0                 0.0  \n",
       "\n",
       "[52834 rows x 6 columns]>"
      ]
     },
     "execution_count": 6,
     "metadata": {},
     "output_type": "execute_result"
    }
   ],
   "source": [
    "df.nunique"
   ]
  },
  {
   "cell_type": "code",
   "execution_count": 11,
   "id": "20666b14-e2e9-4af2-a4bc-7d61794b2b76",
   "metadata": {},
   "outputs": [
    {
     "data": {
      "text/plain": [
       "52834"
      ]
     },
     "execution_count": 11,
     "metadata": {},
     "output_type": "execute_result"
    }
   ],
   "source": [
    "len(df)"
   ]
  },
  {
   "cell_type": "code",
   "execution_count": 12,
   "id": "4cbdf7a6-0ca0-40e0-9c78-8ca64c402988",
   "metadata": {},
   "outputs": [
    {
     "name": "stdout",
     "output_type": "stream",
     "text": [
      "Repeating rows:\n",
      "             filename                                  image  \\\n",
      "0      aatgqvvrta.mp4  dfdc/image\\aatgqvvrta\\frame_00000.jpg   \n",
      "1      aatgqvvrta.mp4  dfdc/image\\aatgqvvrta\\frame_00001.jpg   \n",
      "2      aatgqvvrta.mp4  dfdc/image\\aatgqvvrta\\frame_00002.jpg   \n",
      "3      aatgqvvrta.mp4  dfdc/image\\aatgqvvrta\\frame_00003.jpg   \n",
      "4      aatgqvvrta.mp4  dfdc/image\\aatgqvvrta\\frame_00004.jpg   \n",
      "...               ...                                    ...   \n",
      "52829  rhcifqslqe.mp4  dfdc/image\\rhcifqslqe\\frame_00025.jpg   \n",
      "52830  rhcifqslqe.mp4  dfdc/image\\rhcifqslqe\\frame_00026.jpg   \n",
      "52831  rhcifqslqe.mp4  dfdc/image\\rhcifqslqe\\frame_00027.jpg   \n",
      "52832  rhcifqslqe.mp4  dfdc/image\\rhcifqslqe\\frame_00028.jpg   \n",
      "52833  rhcifqslqe.mp4  dfdc/image\\rhcifqslqe\\frame_00029.jpg   \n",
      "\n",
      "                                     boxes_mtcnn  faces_mtcnn  \\\n",
      "0      [([351, 73, 22, 28], 0.9943623542785645)]            1   \n",
      "1      [([352, 72, 22, 28], 0.9981972575187683)]            1   \n",
      "2      [([349, 72, 22, 28], 0.9976887702941895)]            1   \n",
      "3       [([348, 72, 23, 27], 0.998422384262085)]            1   \n",
      "4      [([350, 72, 22, 26], 0.9976015686988831)]            1   \n",
      "...                                          ...          ...   \n",
      "52829  [([261, 45, 74, 92], 0.9649952054023743)]            1   \n",
      "52830  [([266, 45, 74, 93], 0.9706587791442871)]            1   \n",
      "52831  [([268, 39, 75, 93], 0.9691406488418579)]            1   \n",
      "52832   [([274, 38, 77, 96], 0.848465085029602)]            1   \n",
      "52833                                         []            0   \n",
      "\n",
      "       faces_mtcnn_avg  faces_mtcnn_median  \n",
      "0                616.0               616.0  \n",
      "1                616.0               616.0  \n",
      "2                616.0               616.0  \n",
      "3                621.0               621.0  \n",
      "4                572.0               572.0  \n",
      "...                ...                 ...  \n",
      "52829           6808.0              6808.0  \n",
      "52830           6882.0              6882.0  \n",
      "52831           6975.0              6975.0  \n",
      "52832           7392.0              7392.0  \n",
      "52833              0.0                 0.0  \n",
      "\n",
      "[52833 rows x 6 columns]\n"
     ]
    }
   ],
   "source": [
    "duplicates = df['filename'].duplicated(keep=False)  # `keep=False` marks all duplicates as True\n",
    "repeating_rows = df[duplicates]  # Filter the rows with repeating filenames\n",
    "\n",
    "print(\"Repeating rows:\")\n",
    "print(repeating_rows)"
   ]
  },
  {
   "cell_type": "code",
   "execution_count": 13,
   "id": "1eb05e90-f50f-4b57-8fb5-1fbb6512b39f",
   "metadata": {},
   "outputs": [
    {
     "name": "stdout",
     "output_type": "stream",
     "text": [
      "There are rows with the same filename.\n"
     ]
    }
   ],
   "source": [
    "\n",
    "# Check if there are duplicate filenames\n",
    "if df['filename'].duplicated().any():\n",
    "    print(\"There are rows with the same filename.\")\n",
    "else:\n",
    "    print(\"All filenames are unique.\")"
   ]
  },
  {
   "cell_type": "code",
   "execution_count": null,
   "id": "c2dd54fa-7026-4789-ac9d-c4964322a525",
   "metadata": {},
   "outputs": [],
   "source": []
  }
 ],
 "metadata": {
  "kernelspec": {
   "display_name": "Python 3 (ipykernel)",
   "language": "python",
   "name": "python3"
  },
  "language_info": {
   "codemirror_mode": {
    "name": "ipython",
    "version": 3
   },
   "file_extension": ".py",
   "mimetype": "text/x-python",
   "name": "python",
   "nbconvert_exporter": "python",
   "pygments_lexer": "ipython3",
   "version": "3.11.5"
  }
 },
 "nbformat": 4,
 "nbformat_minor": 5
}
